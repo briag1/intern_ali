{
 "cells": [
  {
   "cell_type": "markdown",
   "metadata": {},
   "source": [
    "# 1. Intership Introduction\n",
    "The goal of this first course is to introduce: \n",
    "1. The structure of the repository\n",
    "3. Background: Things that you might or might not already know.\n",
    "2. Brief introduction to notebooks\n",
    "3. Defintion of Machine Learning with examples\n",
    "4. Reasearch Directions\n",
    "\n",
    "## Repository Structure\n",
    "\n",
    "This Repository is here to help you get started in your internship it contains the basic knowledge and ressources you will need for the internship.\n",
    "It contains:  \n",
    "\n",
    "1. Internship Introduction (current notbook): Aimed at introducing the internship and the general subject.\n",
    "2. Linear Regression: A first simple model/ method to introduce some basic concepts. It is heavily inspired from a course I had in uni (More details on that at the end of the Linear Regression notebook).\n",
    "6. Sequence to sequence modeling: This is the basic knowledge fundamental to understand LLMs\n",
    "7. Ressources for visual reasonning.\n",
    "\n",
    "Notebooks are great because they enable having code and text at the same place. However, when it comes to big project they are not so great. So feel free to use them if you want to but you don't have to.<br>"
   ]
  },
  {
   "cell_type": "markdown",
   "metadata": {},
   "source": [
    "## Background\n",
    "\n",
    "The backrgounds pages of the mlpr course: \n",
    "* Maths: https://mlpr.inf.ed.ac.uk/2024/notes/w0e_maths.html\n",
    "* Python: https://mlpr.inf.ed.ac.uk/2024/notes/w0f_programming.html\n",
    "\n",
    "Are constitute a good background ressources. \n",
    "\n",
    "Among the things you might need is torch so I listed a udacity course I used myself:\n",
    "\n",
    "https://github.com/udacity/deep-learning-v2-pytorch\n",
    "\n",
    "Hugging also has plenty of course on Machine Learning:\n",
    "\n",
    "https://huggingface.co/learn\n",
    "\n",
    "\n",
    "You do nat have to and you are not expected to review everything. This is here just in case you need it."
   ]
  },
  {
   "cell_type": "markdown",
   "metadata": {},
   "source": [
    "## Introduction to Notebooks"
   ]
  },
  {
   "cell_type": "markdown",
   "metadata": {},
   "source": [
    "### Markdown"
   ]
  },
  {
   "cell_type": "markdown",
   "metadata": {},
   "source": [
    "Notebooks are composed of cells such as this one. You can double click the text to see what it looks like. <br>\n",
    "More precisely, as written on the left right corner of the cell (Once you have opened it with a double click), this cell is a markedown cell. <br>\n",
    "It is a cell used to write text. You can try creating a new one below by first clicking on the current cell to say <br>\n",
    "where you want to create the cell then: click on the markdown button at the top left corner:"
   ]
  },
  {
   "cell_type": "markdown",
   "metadata": {},
   "source": [
    "Markdown cell can be structured with headings of different size: \n",
    "# Biggest Heading.\n",
    "## Smaller Heading \n",
    "\n",
    "It can also contain list: \n",
    "* this is an unnamerated list \n",
    "1. this is a numerted list\n",
    "\n",
    "You can try running this cell (with Maj + Enter) to see what it looks like."
   ]
  },
  {
   "cell_type": "markdown",
   "metadata": {},
   "source": [
    "### Code"
   ]
  },
  {
   "cell_type": "markdown",
   "metadata": {},
   "source": [
    "The other type of cell is code cells such has the one bellow:"
   ]
  },
  {
   "cell_type": "code",
   "execution_count": 1,
   "metadata": {},
   "outputs": [
    {
     "name": "stdout",
     "output_type": "stream",
     "text": [
      "10\n"
     ]
    }
   ],
   "source": [
    "a = 10 \n",
    "print(a)"
   ]
  },
  {
   "cell_type": "markdown",
   "metadata": {},
   "source": [
    "It is used to run code. Again you can run the cell by clicking on it to select it and then Maj+ Enter. You should this the number 10 appear below the cell. THis is the output of the cell."
   ]
  },
  {
   "cell_type": "markdown",
   "metadata": {},
   "source": [
    "Morever variables defined in one cell are defined for the entire notebook. \n",
    "You can check that the cell below runs without error and print the the same number as the first one."
   ]
  },
  {
   "cell_type": "code",
   "execution_count": null,
   "metadata": {},
   "outputs": [],
   "source": [
    "print(a)"
   ]
  },
  {
   "cell_type": "markdown",
   "metadata": {},
   "source": [
    "This is super useful to define a sequence of operation we want to to execute. \n",
    "However this can sometimes can messy. \n",
    "For example runs if you run the cell below then the one above. \n",
    "What number do you expect? \n",
    "This is quite simple in this case but if you do not remember the order in which the cells where executed it can be difficult to know what is the state of every variables.\n",
    "In this case it can be useful to reset the notebook and erase every variables from memory by clicking on the restart button next to the markdown one.\n",
    "You can try clicking on it and then run the cell bellow. You should get an error message saying that the variable a does not exist:\n"
   ]
  },
  {
   "cell_type": "code",
   "execution_count": 1,
   "metadata": {},
   "outputs": [
    {
     "ename": "NameError",
     "evalue": "name 'a' is not defined",
     "output_type": "error",
     "traceback": [
      "\u001b[31m---------------------------------------------------------------------------\u001b[39m",
      "\u001b[31mNameError\u001b[39m                                 Traceback (most recent call last)",
      "\u001b[36mCell\u001b[39m\u001b[36m \u001b[39m\u001b[32mIn[1]\u001b[39m\u001b[32m, line 1\u001b[39m\n\u001b[32m----> \u001b[39m\u001b[32m1\u001b[39m \u001b[38;5;28mprint\u001b[39m(\u001b[43ma\u001b[49m)\n",
      "\u001b[31mNameError\u001b[39m: name 'a' is not defined"
     ]
    }
   ],
   "source": [
    "print(a)"
   ]
  },
  {
   "cell_type": "markdown",
   "metadata": {},
   "source": [
    "## Introduction to Machine Learning (ML)"
   ]
  },
  {
   "cell_type": "markdown",
   "metadata": {},
   "source": [
    "Artificial Intelligence (AI) has become a buzz words with many things attach to it and it the end is very hard (if not impossible to define properly). In this course we are going to focus on one aspect of AI called machine learning (ML).\n",
    "\n",
    "Machine Learning, like AI, is also a buzzword, but luckily it is somewhat easier to define. In simple terms, machine learning involves creating models that learn to perform tasks based on examples.\n",
    "Even this simple definition can be quite hard to understand as it is abstract but lets see a few examples that might help understand it."
   ]
  },
  {
   "cell_type": "markdown",
   "metadata": {},
   "source": [
    "### Example 1:\n",
    "Let's say we want to create a model than detect cat's in an image. \n",
    "What is our task? (try to guess the answer before revealing it)."
   ]
  },
  {
   "cell_type": "code",
   "execution_count": 1,
   "metadata": {},
   "outputs": [
    {
     "data": {
      "application/vnd.jupyter.widget-view+json": {
       "model_id": "ca7d52e39f334dcabb8dfd6a2107e026",
       "version_major": 2,
       "version_minor": 0
      },
      "text/plain": [
       "HBox(children=(Button(description='see the answer', style=ButtonStyle()), Text(value='')))"
      ]
     },
     "metadata": {},
     "output_type": "display_data"
    }
   ],
   "source": [
    "import ipywidgets as widgets \n",
    "from ipywidgets import interact, interact_manual, fixed , Text\n",
    "\n",
    "button = widgets.Button(description=\"see the answer\")\n",
    "text: Text = Text(str(\"\"), continuous_update = True)\n",
    "out = widgets.HBox([button, text])\n",
    "def on_button_click(b):\n",
    "    text.value = \"Detecting Cats\" \n",
    "button.on_click(on_button_click)\n",
    "display(out)"
   ]
  },
  {
   "cell_type": "markdown",
   "metadata": {},
   "source": [
    "Classification means that the task we want to solve is to find the correct class (here \"class cat\" and \"class not cat\").\n",
    "Binary means that there are only two possible classes.\n",
    "\n",
    "Now we want a model to for this task. Mathematically, we want a model $M$ such that (s.t.): \n",
    "$$\n",
    "M(\\text{image}) = \\begin{cases} \n",
    "1 & \\text{if cat} \\\\\n",
    "0 & \\text{otherwise}\n",
    "\\end{cases}\n",
    "$$\n",
    "\n",
    "While this task is simple for humans, it is surprisingly difficult for machines. To simplify the problem, let's assume each image comes with a set of features (information) such as:\n",
    "\n",
    "* $B_{whiskers}$: True if a whiskers is in the image False Otherwise.\n",
    "* $B_{PointyEars}$: True if pointy ears are in the image False Otherwise.\n",
    "* $B_{Couch}$: True if a couch is in the image False otherwise.\n",
    "\n",
    "Using these features, we can build various models. A simple example is:\n",
    "\n",
    "\n",
    "$$\n",
    "M_{\\text{whiskers}}: b_{\\text{Whiskers}} \\rightarrow \\begin{cases} \n",
    "1 & \\text{if } b_{\\text{Whiskers}} \\\\\n",
    "0 & \\text{otherwise}\n",
    "\\end{cases}\n",
    "$$\n",
    "\n",
    "Can you guess what this models does?\n"
   ]
  },
  {
   "cell_type": "code",
   "execution_count": 3,
   "metadata": {},
   "outputs": [
    {
     "data": {
      "application/vnd.jupyter.widget-view+json": {
       "model_id": "db7005146e0d4d04bd5f718fd291e59e",
       "version_major": 2,
       "version_minor": 0
      },
      "text/plain": [
       "VBox(children=(Button(description='see the answer', style=ButtonStyle()), Text(value='')))"
      ]
     },
     "metadata": {},
     "output_type": "display_data"
    }
   ],
   "source": [
    "import ipywidgets as widgets \n",
    "from ipywidgets import interact, interact_manual, fixed , Text\n",
    "\n",
    "button = widgets.Button(description=\"see the answer\")\n",
    "text: Text = Text(str(\"\"), continuous_update = True)\n",
    "out = widgets.VBox([button, text])\n",
    "def on_button_click(b):\n",
    "    text.value = \"Returns 1 if whiskers are in the image and 0 otherwise.\" \n",
    "button.on_click(on_button_click)\n",
    "display(out)"
   ]
  },
  {
   "cell_type": "markdown",
   "metadata": {},
   "source": [
    "We can define additional two additional this way one for each feature. \n",
    "Moreover can define a more general model as follow: \n",
    "\n",
    "$$\n",
    "M_{name}: (b_{\\text{Whiskers}}, b_{\\text{PointyEars}}, b_{\\text{Couch}}) \\rightarrow \\begin{cases} \n",
    "1 & \\text{if } b_{\\text{name}} \\\\\n",
    "0 & \\text{otherwise}\n",
    "\\end{cases} \\text{where } name \\in \\{Whiskers, PointyEars, Couch\\}\n",
    "$$\n",
    "\n",
    "This model return 1 if the feature corresponding to the variable name is in the image and 0 otherwise. \n",
    "\n",
    "$name$ is a parameter of the model. It's the choice we make about the model that influence it's ouptut. \n",
    "\n",
    "the question is now how can we decide how to set name. \n",
    "This is where the rest of the definition of machine learning comes into play, we need to learn base on experiments with data to see which one works best.\n",
    "Therefore we need a dataset of images of both classes (with cats and without).\n",
    "Below is a small example of such a dataset:\n",
    "<div style=\"text-align:center;\">\n",
    "  <figure>\n",
    "    <img src=\"./cats1.png\" alt=\"drawing\" style=\"width:200px;height:200px\"/>\n",
    "    <img src=\"./data/cats2.png\" alt=\"drawing\" style=\"width:200px;height:200px\"/><br>\n",
    "    <img src=\"./data/couch.png\" alt=\"drawing\" style=\"width:200px;height:200px\"/>\n",
    "    <img src=\"./data/boat.png\" alt=\"drawing\" style=\"width:200px;height:200px\"/><br>\n",
    "    <figcaption>Cat Dataset</figcaption>\n",
    "  </figure>\n",
    "</div>\n",
    "\n",
    "Based on this dataset which feature would you select?\n"
   ]
  },
  {
   "cell_type": "markdown",
   "metadata": {},
   "source": [
    "One possible method to select the best features is to test them all and select the one that leads to the best Accuracy, where the accuracy is the percentage of time the model is correct about its predictions."
   ]
  },
  {
   "cell_type": "markdown",
   "metadata": {},
   "source": [
    "## Research Directions\n",
    "\n",
    "You should already know the subject of the internship by now but if you have any questions feel free to ask me.\n",
    "\n",
    "Below are the research directions I believe might be interesting (Feel free to propose new ones):\n",
    "\n",
    "* Create an evaluation pipeline (dataset + code) to test different models\n",
    "\n",
    "* Investigate the impact of manual prompting: https://fr.wikipedia.org/wiki/Ingénierie_de_prompt\n",
    "\n",
    "* Investigate distallation methods: https://fr.wikipedia.org/wiki/Distillation_des_connaissances \n",
    "(Feel free to ask questions on this one)\n",
    "\n",
    "\n",
    "\n",
    "\n",
    "\n"
   ]
  }
 ],
 "metadata": {
  "kernelspec": {
   "display_name": ".venv",
   "language": "python",
   "name": "python3"
  },
  "language_info": {
   "codemirror_mode": {
    "name": "ipython",
    "version": 3
   },
   "file_extension": ".py",
   "mimetype": "text/x-python",
   "name": "python",
   "nbconvert_exporter": "python",
   "pygments_lexer": "ipython3",
   "version": "3.12.8"
  }
 },
 "nbformat": 4,
 "nbformat_minor": 2
}
