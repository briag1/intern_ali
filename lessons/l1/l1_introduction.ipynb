{
 "cells": [
  {
   "cell_type": "markdown",
   "metadata": {},
   "source": [
    "# 1. Course Introduction\n",
    "The goal of this first course is to introduce: \n",
    "1. the course structure \n",
    "2. notebooks\n",
    "3. Artificial Intelligence\n",
    "\n",
    "## Course structure\n",
    "\n",
    "This course is not meant to be exhaustive but rather the basic knowledge you while need for the internship.\n",
    "TO this end here are the lessons we will do: \n",
    "\n",
    "1. Course Introduction: This is the current lesson and is aimed as introducing the course and the general subject.\n",
    "2. Linear Regression: A first simple model/ method to introduce some basic concepts.\n",
    "3. Gradient Descent: The Central algorithm of machine, used everywhere from linear regression to Large Language Language models.\n",
    "4. Logistic Regression: Another simple simple method for classification problems.\n",
    "5. Deep Neural Networks: This model is just a generalization of the previous first two model (i.e Linear and Logistic Regression).\n",
    "6. Sequence to sequence modeling: This is the basic knowledge fundamental to understand LLMs\n",
    "7. The Basics of visual Reasoning \n",
    "8. Mixing text and Image.\n",
    "\n",
    "Every lessons is made of a  notebook that contains the lessons. \n",
    "We use notebooks because they enable having code and text at the same place.<br>\n",
    "The goal of each lecture is to give you the intuition behind each method not the formal mathematical definitions and proofs, though you are free to look into these if you want to. <br>\n",
    "Because intuition is built through interaction we will encourage you to test and try thing to gain a better knowledge.\n",
    "\n",
    "This first part of this course though summarized, is heavily based on the machine learning and pattern recognition (MLPR) of Ian Murray: https://mlpr.inf.ed.ac.uk/2022/notes/w0a_welcome_and_advice.html <br>\n",
    "So feel free to check it out if you want to dig deeper into any of the subjects."
   ]
  },
  {
   "cell_type": "markdown",
   "metadata": {},
   "source": [
    "## Introduction to Notebooks"
   ]
  },
  {
   "cell_type": "markdown",
   "metadata": {},
   "source": [
    "### Markdown"
   ]
  },
  {
   "cell_type": "markdown",
   "metadata": {},
   "source": [
    "Notebooks are composed of cells such as this one. You can double click the text to see what it looks like. <br>\n",
    "More precisely, as written on the left right corner of the cell (Once you have opened it with a double click), this cell is a markedown cell. <br>\n",
    "This means it is a cell used to write text. You can try creating a new on below by first clicking on this cell to say <br>\n",
    "where you want to create the cell then: click on the markdown button at the top left corner:"
   ]
  },
  {
   "cell_type": "markdown",
   "metadata": {},
   "source": [
    "Markdown cell can be structured with headings of different size: \n",
    "# Biggest Heading.\n",
    "## Smaller Heading \n",
    "\n",
    "It can also contain list: \n",
    "* this is an unnamerated list \n",
    "1. this is a numerted list\n",
    "\n",
    "You can try running this cell (with Maj + Enter) to see what it looks like."
   ]
  },
  {
   "cell_type": "markdown",
   "metadata": {},
   "source": [
    "### Code"
   ]
  },
  {
   "cell_type": "markdown",
   "metadata": {},
   "source": [
    "The other type of cell is code cells such has the one bellow:"
   ]
  },
  {
   "cell_type": "code",
   "execution_count": 1,
   "metadata": {},
   "outputs": [
    {
     "name": "stdout",
     "output_type": "stream",
     "text": [
      "10\n"
     ]
    }
   ],
   "source": [
    "a = 10 \n",
    "print(a)"
   ]
  },
  {
   "cell_type": "markdown",
   "metadata": {},
   "source": [
    "It is used to run code. Again you can run the cell by clicking on it to select it and then Maj+ Enter. You should this the number 10 appear below the cell. THis is the output of the cell."
   ]
  },
  {
   "cell_type": "markdown",
   "metadata": {},
   "source": [
    "Morever variables defined in one cell are defined for the entire notebook. \n",
    "You can check that the cell below runs without error and print the the same number as the first one."
   ]
  },
  {
   "cell_type": "code",
   "execution_count": null,
   "metadata": {},
   "outputs": [],
   "source": [
    "print(a)"
   ]
  },
  {
   "cell_type": "markdown",
   "metadata": {},
   "source": [
    "This is super useful to define a sequence of operation we want to to execute. \n",
    "However this can sometimes can messy. \n",
    "For example runs if you run the cell below then the one above. \n",
    "What number do you expect? \n",
    "This is quite simple in this case but if you do not remember the order in which the cells where executed it can be difficult to know what is the state of every variables.\n",
    "In this case it can be useful to reset the notebook and erase every variables from memory by clicking on the restart button next to the markdown one.\n",
    "You can try clicking on it and then run the cell bellow. You should get an error message saying that the variable a does not exist:\n"
   ]
  },
  {
   "cell_type": "code",
   "execution_count": 1,
   "metadata": {},
   "outputs": [
    {
     "ename": "NameError",
     "evalue": "name 'a' is not defined",
     "output_type": "error",
     "traceback": [
      "\u001b[31m---------------------------------------------------------------------------\u001b[39m",
      "\u001b[31mNameError\u001b[39m                                 Traceback (most recent call last)",
      "\u001b[36mCell\u001b[39m\u001b[36m \u001b[39m\u001b[32mIn[1]\u001b[39m\u001b[32m, line 1\u001b[39m\n\u001b[32m----> \u001b[39m\u001b[32m1\u001b[39m \u001b[38;5;28mprint\u001b[39m(\u001b[43ma\u001b[49m)\n",
      "\u001b[31mNameError\u001b[39m: name 'a' is not defined"
     ]
    }
   ],
   "source": [
    "print(a)"
   ]
  },
  {
   "cell_type": "markdown",
   "metadata": {},
   "source": [
    "## Introduction to Machine Learning (ML)"
   ]
  },
  {
   "cell_type": "markdown",
   "metadata": {},
   "source": [
    "Artificial Intelligence (AI) has become a buzz words with many things attach to it and it the end is very hard (if not impossible to define properly). In this course we are going to focus on one aspect of AI called machine learning (ML).\n",
    "\n",
    "Machine Learning, like AI, is also a buzzword, but luckily it is somewhat easier to define. In simple terms, machine learning involves creating models that learn to perform tasks based on examples.\n",
    "Even this simple definition can be quite hard to understand as it is abstract but lets see a few examples that might help understand it."
   ]
  },
  {
   "cell_type": "markdown",
   "metadata": {},
   "source": [
    "### Example 1:\n",
    "Let's say we want to create a model than detect cat's in an image. \n",
    "What is our task? (try to guess the answer before revealing it)."
   ]
  },
  {
   "cell_type": "code",
   "execution_count": 39,
   "metadata": {},
   "outputs": [
    {
     "data": {
      "application/vnd.jupyter.widget-view+json": {
       "model_id": "88cbe05a4cd5487e9e27553633060a3e",
       "version_major": 2,
       "version_minor": 0
      },
      "text/plain": [
       "HBox(children=(Button(description='see the answer', style=ButtonStyle()), Text(value='')))"
      ]
     },
     "metadata": {},
     "output_type": "display_data"
    }
   ],
   "source": [
    "import ipywidgets as widgets \n",
    "from ipywidgets import interact, interact_manual, fixed , Text\n",
    "\n",
    "button = widgets.Button(description=\"see the answer\")\n",
    "text: Text = Text(str(\"\"), continuous_update = True)\n",
    "out = widgets.HBox([button, text])\n",
    "def on_button_click(b):\n",
    "    text.value = \"Detecting Cats\" \n",
    "button.on_click(on_button_click)\n",
    "display(out)"
   ]
  },
  {
   "cell_type": "markdown",
   "metadata": {},
   "source": [
    "Classification means that the task we want to solve is to find the correct class (here \"class cat\" and \"class not cat\").\n",
    "Binary means that there are only two possible classes.\n",
    "\n",
    "Now we want a model to for this task. Mathematically, we want a model $M$ such that (s.t.): \n",
    "$$\n",
    "M(\\text{image}) = \\begin{cases} \n",
    "1 & \\text{if cat} \\\\\n",
    "0 & \\text{otherwise}\n",
    "\\end{cases}\n",
    "$$\n",
    "\n",
    "While this task is simple for humans, it is surprisingly difficult for machines. To simplify the problem, let's assume each image comes with a set of features (information) such as:\n",
    "\n",
    "* $B_{whiskers}$: True if a whiskers is in the image False Otherwise.\n",
    "* $B_{PointyEars}$: True if pointy ears are in the image False Otherwise.\n",
    "* $B_{Couch}$: True if a couch is in the image False otherwise.\n",
    "\n",
    "Using these features, we can build various models. A simple example is:\n",
    "\n",
    "\n",
    "$$\n",
    "M_{\\text{whiskers}}: b_{\\text{Whiskers}} \\rightarrow \\begin{cases} \n",
    "1 & \\text{if } b_{\\text{Whiskers}} \\\\\n",
    "0 & \\text{otherwise}\n",
    "\\end{cases}\n",
    "$$\n",
    "\n",
    "Can you guess what this models does?\n"
   ]
  },
  {
   "cell_type": "code",
   "execution_count": 38,
   "metadata": {},
   "outputs": [
    {
     "data": {
      "application/vnd.jupyter.widget-view+json": {
       "model_id": "edf7468f1d7a46a699bfe0ab6e772189",
       "version_major": 2,
       "version_minor": 0
      },
      "text/plain": [
       "VBox(children=(Button(description='see the answer', style=ButtonStyle()), Text(value='')))"
      ]
     },
     "metadata": {},
     "output_type": "display_data"
    }
   ],
   "source": [
    "import ipywidgets as widgets \n",
    "from ipywidgets import interact, interact_manual, fixed , Text\n",
    "\n",
    "button = widgets.Button(description=\"see the answer\")\n",
    "text: Text = Text(str(\"\"), continuous_update = True)\n",
    "out = widgets.VBox([button, text])\n",
    "def on_button_click(b):\n",
    "    text.value = \"Returns 1 if whiskers are in the image and 0 otherwise.\" \n",
    "button.on_click(on_button_click)\n",
    "display(out)"
   ]
  },
  {
   "cell_type": "markdown",
   "metadata": {},
   "source": [
    "We can define additional two additional this way one for each feature. \n",
    "Moreover can define a more general model as follow: \n",
    "\n",
    "$$\n",
    "M_{name}: (b_{\\text{Whiskers}}, b_{\\text{PointyEars}}, b_{\\text{Couch}}) \\rightarrow \\begin{cases} \n",
    "1 & \\text{if } b_{\\text{name}} \\\\\n",
    "0 & \\text{otherwise}\n",
    "\\end{cases} \\text{where } name \\in \\{Whiskers, PointyEars, Couch\\}\n",
    "$$\n",
    "\n",
    "This model return 1 if the feature corresponding to the variable name is in the image and 0 otherwise. \n",
    "\n",
    "$name$ is a parameter of the model. It's the choice we make about the model that influence it's ouptut. \n",
    "\n",
    "the question is now how can we decide how to set name. \n",
    "This is where the rest of the definition of machine learning comes into play, we need to learn base on experiments with data to see which one works best.\n",
    "Therefore we need a dataset of images of both classes (with cats and without).\n",
    "Below is a small example of such a dataset:\n",
    "<center>\n",
    "    <figure markdown>\n",
    "    <img src=\\\"./cat1.png\\\" alt=\\\"drawing\\\" style=\\\"width:200px;height:200px\\\"/>\n",
    "    <img src=\\\"./cat2.png\\\" alt=\\\"drawing\\\" style=\\\"width:200px;height:200px\\\"/><br>\n",
    "    <img src=\\\"./no_cat1.png\\\" alt=\\\"drawing\\\" style=\\\"width:200px;height:200px\\\"/>\n",
    "    <img src=\\\"./no_cat2.png\\\" alt=\\\"drawing\\\" style=\\\"width:200px;height:200px\\\"/><br>\n",
    "    <figcaption>Cat Dataset</figcaption>\n",
    "    <figure markdown>\n",
    "</center>\n",
    "\n",
    "Based on this dataset which feature would you select?\n"
   ]
  },
  {
   "cell_type": "markdown",
   "metadata": {},
   "source": [
    "One possible method to select the best features is to test them all and select the one that leads to the best Accuracy, where the accuracy is the percentage of time the model is correct about its predictions. In Our case this would be: "
   ]
  },
  {
   "cell_type": "markdown",
   "metadata": {},
   "source": [
    "## Takeaways\n",
    "\n",
    "Alright this is all for the introduction the main takeaways of this lecture are: \n",
    "\n"
   ]
  },
  {
   "cell_type": "markdown",
   "metadata": {},
   "source": [
    "## Ipywidgets Test"
   ]
  },
  {
   "cell_type": "code",
   "execution_count": 5,
   "metadata": {},
   "outputs": [
    {
     "data": {
      "application/vnd.jupyter.widget-view+json": {
       "model_id": "6d55df5afab14cf0a1350a245afd5ec9",
       "version_major": 2,
       "version_minor": 0
      },
      "text/plain": [
       "Button(description='My Button', style=ButtonStyle())"
      ]
     },
     "execution_count": 5,
     "metadata": {},
     "output_type": "execute_result"
    }
   ],
   "source": [
    "# import module \n",
    "import ipywidgets as widgets \n",
    "  \n",
    "# creating button \n",
    "widgets.Button(description = 'My Button') "
   ]
  },
  {
   "cell_type": "code",
   "execution_count": 27,
   "metadata": {},
   "outputs": [
    {
     "data": {
      "application/vnd.jupyter.widget-view+json": {
       "model_id": "b07d8f1931f14bc1bd8c8737f4542430",
       "version_major": 2,
       "version_minor": 0
      },
      "text/plain": [
       "interactive(children=(Button(description='Run Interact', style=ButtonStyle()), Output()), _dom_classes=('widge…"
      ]
     },
     "metadata": {},
     "output_type": "display_data"
    },
    {
     "data": {
      "text/plain": [
       "<function __main__.lang()>"
      ]
     },
     "execution_count": 27,
     "metadata": {},
     "output_type": "execute_result"
    }
   ],
   "source": [
    "import ipywidgets as widgets \n",
    "from ipywidgets import interact, interact_manual, fixed , Text\n",
    "  \n",
    "from random import choice \n",
    "  \n",
    "def lang(): \n",
    "  langSelect = [\"English\",\"Deustche\",\"Espanol\",\"Italiano\",\"한국어\",\"日本人\"] \n",
    "  print(choice(langSelect)) \n",
    "    \n",
    "interact_manual(lang)"
   ]
  },
  {
   "cell_type": "code",
   "execution_count": 21,
   "metadata": {},
   "outputs": [
    {
     "data": {
      "application/vnd.jupyter.widget-view+json": {
       "model_id": "b908178f89684d959594c1b4b4cd8ab5",
       "version_major": 2,
       "version_minor": 0
      },
      "text/plain": [
       "HBox(children=(Button(description='Click me!', style=ButtonStyle()), Text(value='0')))"
      ]
     },
     "metadata": {},
     "output_type": "display_data"
    }
   ],
   "source": [
    "import ipywidgets as widgets \n",
    "from ipywidgets import interact, interact_manual, fixed , Text\n",
    "\n",
    "button = widgets.Button(description=\"Click me!\")\n",
    "text: Text = Text(str(0), continuous_update = True)\n",
    "out = widgets.HBox([button, text])\n",
    "def on_button_click(b):\n",
    "    text.value = str(int(text.value) +1)\n",
    "button.on_click(on_button_click)\n",
    "display(out)\n"
   ]
  },
  {
   "cell_type": "code",
   "execution_count": 16,
   "metadata": {},
   "outputs": [
    {
     "data": {
      "application/vnd.jupyter.widget-view+json": {
       "model_id": "294cfa7e72374343b0fe743f1231c548",
       "version_major": 2,
       "version_minor": 0
      },
      "text/plain": [
       "interactive(children=(FloatSlider(value=0.0, description='m', max=2.0, min=-2.0, step=0.001), FloatSlider(valu…"
      ]
     },
     "execution_count": 16,
     "metadata": {},
     "output_type": "execute_result"
    }
   ],
   "source": [
    "%matplotlib inline\n",
    "from IPython.display import display, clear_output\n",
    "import ipywidgets as widgets\n",
    "from ipywidgets import interactive\n",
    "import matplotlib.pyplot as plt\n",
    "import numpy as np\n",
    "\n",
    "fig, ax = plt.subplots(figsize=(6, 4))\n",
    "x = np.linspace(-10, 10, num=1000)\n",
    "\n",
    "def f(m, b):\n",
    "    [line.remove() for line in ax.lines]\n",
    "    ax.plot(x, m * x + b)\n",
    "    plt.ylim(-5, 5)\n",
    "    plt.show()\n",
    "    plt.close(fig)\n",
    "    \n",
    "    \n",
    "OUT: widgets.Output = widgets.Output()\n",
    "interactive_plot = interactive(f, m=(-2.0, 2.0, 0.001), b=(-3, 3, 0.1))\n",
    "output = interactive_plot.children[-1]\n",
    "interactive_plot"
   ]
  },
  {
   "cell_type": "code",
   "execution_count": 24,
   "metadata": {},
   "outputs": [
    {
     "data": {
      "application/vnd.jupyter.widget-view+json": {
       "model_id": "74a06e0ca3774e8e8241f29b3abc969c",
       "version_major": 2,
       "version_minor": 0
      },
      "text/plain": [
       "interactive(children=(IntSlider(value=10, description='x', max=30, min=-10), Output()), _dom_classes=('widget-…"
      ]
     },
     "metadata": {},
     "output_type": "display_data"
    },
    {
     "data": {
      "text/plain": [
       "<function __main__.f(x)>"
      ]
     },
     "execution_count": 24,
     "metadata": {},
     "output_type": "execute_result"
    }
   ],
   "source": [
    "def f(x):\n",
    "    return x\n",
    "\n",
    "widgets.interact(f, x=10)"
   ]
  },
  {
   "cell_type": "code",
   "execution_count": 26,
   "metadata": {},
   "outputs": [
    {
     "data": {
      "application/vnd.jupyter.widget-view+json": {
       "model_id": "b3c2dc71bcfb4de9a0f955b23bf472ec",
       "version_major": 2,
       "version_minor": 0
      },
      "text/plain": [
       "interactive(children=(FloatSlider(value=0.0, description='m', max=2.0, min=-2.0), FloatSlider(value=0.0, descr…"
      ]
     },
     "execution_count": 26,
     "metadata": {},
     "output_type": "execute_result"
    }
   ],
   "source": [
    "%matplotlib inline\n",
    "from ipywidgets import interactive\n",
    "import matplotlib.pyplot as plt\n",
    "import numpy as np\n",
    "\n",
    "def f(m, b):\n",
    "    plt.figure(2)\n",
    "    x = np.linspace(-10, 10, num=1000)\n",
    "    plt.plot(x, m * x + b)\n",
    "    plt.ylim(-5, 5)\n",
    "    plt.show()\n",
    "\n",
    "interactive_plot = interactive(f, m=(-2.0, 2.0), b=(-3, 3, 0.5))\n",
    "output = interactive_plot.children[-1]\n",
    "output.layout.height = '350px'\n",
    "interactive_plot"
   ]
  },
  {
   "cell_type": "code",
   "execution_count": null,
   "metadata": {},
   "outputs": [],
   "source": []
  }
 ],
 "metadata": {
  "language_info": {
   "name": "python"
  }
 },
 "nbformat": 4,
 "nbformat_minor": 2
}
