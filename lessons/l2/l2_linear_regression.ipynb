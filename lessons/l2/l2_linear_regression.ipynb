{
 "cells": [
  {
   "cell_type": "markdown",
   "metadata": {},
   "source": [
    "# 2. Linear Regression"
   ]
  },
  {
   "cell_type": "markdown",
   "metadata": {},
   "source": [
    "First, let's define what the terms means. \n",
    "Linear means that the function is a linear combination of the parameters. \n",
    "Mathematically this is written: \n",
    "\n",
    "$$f(x; w, b) = w^T x + b = w_1 x_1 + ... + w_D x_D + b$$\n",
    "\n",
    "where:\n",
    "* $\n",
    "\\mathbf{x} = \\begin{pmatrix}\n",
    "x_1 \\\\\n",
    "x_2 \\\\\n",
    "\\vdots \\\\\n",
    "x_n\n",
    "\\end{pmatrix} \n",
    "\\in R^D$ \n",
    "is vector of D real features.\n",
    "\n",
    "* w,b are the parameters, w is a vector D parameters and is a single parameter. \n"
   ]
  },
  {
   "cell_type": "markdown",
   "metadata": {},
   "source": [
    "For example: \n",
    "\n",
    "Imagine our task was to predict the strength of concrete batch and we add the amount of water in ml x_1 , the amount of sand  in kg x_2 \n",
    "\n",
    "Then our linear model would say the strength of the resulting concrete would be: \n",
    "\n",
    "$$f(x1, x2; w, b) = w_1 x_1 + w_2  x_2 +b $$\n",
    "\n",
    "If we set the parameters to $w_1 = w_2 = 1$ and $b = 0$: <br>\n",
    "For $x_1 = 100 ml$ and $x_2 = 1kg$ this would yield $f(x_1, x2; w, b) = 100 + 1 = 101$ \n"
   ]
  },
  {
   "cell_type": "markdown",
   "metadata": {},
   "source": [
    "Below is an example in 2 dimension (i.e D=1 and output dimenssion is of size 1.) You can try changing the value of the parameters to see how they influence the model."
   ]
  },
  {
   "cell_type": "code",
   "execution_count": 8,
   "metadata": {},
   "outputs": [
    {
     "data": {
      "application/vnd.jupyter.widget-view+json": {
       "model_id": "0b0513b65eb7430db883140ef078b24a",
       "version_major": 2,
       "version_minor": 0
      },
      "text/plain": [
       "interactive(children=(FloatSlider(value=0.0, description='w', max=2.0, min=-2.0), FloatSlider(value=0.0, descr…"
      ]
     },
     "execution_count": 8,
     "metadata": {},
     "output_type": "execute_result"
    }
   ],
   "source": [
    "%matplotlib inline\n",
    "from ipywidgets import interactive\n",
    "import matplotlib.pyplot as plt\n",
    "import numpy as np\n",
    "plt.figure(2)\n",
    "x = np.linspace(-100, 100, num=1000)\n",
    "\n",
    "def f(w, b):\n",
    "    plt.plot(x, w * x + b)\n",
    "    plt.ylim(-5, 5)\n",
    "    plt.xlim(-10, 10)\n",
    "    plt.xlabel(\"x\")\n",
    "    plt.ylabel(\"f(x;w,b)\")\n",
    "    plt.show()\n",
    "\n",
    "interactive_plot = interactive(f, w=(-2.0, 2.0), b=(-3, 3, 0.5))\n",
    "output = interactive_plot.children[-1]\n",
    "output.layout.height = '450px'\n",
    "interactive_plot"
   ]
  },
  {
   "cell_type": "markdown",
   "metadata": {},
   "source": [
    "How do we find the best value for w and b?"
   ]
  },
  {
   "cell_type": "markdown",
   "metadata": {},
   "source": [
    "As explain the introduction we need example to learn from:\n",
    "Let the $\\{x^{(n)}, y^{(n)}\\}_{n=1}^N this dataset. \n",
    "For example we have N batch ciment each with a different set of characteristics $x^{(n)} \\in R^D$ and a corresponding output strengh y^{(n)}.\n",
    "\n",
    "We have generated a set $N_train = 20$ using a linear model f(x, w, b) to which we added noise. the resulting output is:\n",
    "\n",
    "$$y^{n} = f(x^{(n)}, w, b) + y^{(n)}_{noise}$$\n",
    "\n",
    "Try changing the parameter the parameter w,b to fit the points once you are ready you can check reveal and the true plot will be displayed."
   ]
  },
  {
   "cell_type": "code",
   "execution_count": 5,
   "metadata": {},
   "outputs": [
    {
     "data": {
      "application/vnd.jupyter.widget-view+json": {
       "model_id": "4f7701848c8e4e5da83faa2a0c42d46a",
       "version_major": 2,
       "version_minor": 0
      },
      "text/plain": [
       "interactive(children=(FloatSlider(value=0.0, description='w', max=2.0, min=-2.0), FloatSlider(value=0.0, descr…"
      ]
     },
     "execution_count": 5,
     "metadata": {},
     "output_type": "execute_result"
    }
   ],
   "source": [
    "%matplotlib inline\n",
    "import ipywidgets as widgets\n",
    "from ipywidgets import interactive\n",
    "import matplotlib.pyplot as plt\n",
    "import numpy as np\n",
    "N_train = 20\n",
    "x = np.linspace(-10, 10, num=1000)\n",
    "x_train = np.linspace(-10, 10, num= N_train)\n",
    "sigma_noise = 1\n",
    "w_true =  0.345\n",
    "b_true = 1\n",
    "y_noise = sigma_noise *np.random.randn(N_train)\n",
    "def f(w, b, reveal):\n",
    "    plt.plot(x_train, w_true * x_train + b_true + y_noise, 'x')\n",
    "    plt.plot(x, w * x + b)\n",
    "    if reveal: \n",
    "        plt.plot(x, w_true * x + b_true)\n",
    "    plt.ylim(-5, 5)\n",
    "    plt.xlabel(\"x\")\n",
    "    plt.ylabel(\"f(x;w,b)\")\n",
    "    plt.show()\n",
    "\n",
    "interactive_plot: interactive = interactive(f, w=(-2.0, 2.0), b=(-3, 3, 0.5), reveal = False)\n",
    "\n",
    "\n",
    "output = interactive_plot.children[-1]\n",
    "output.layout.height = '450px'\n",
    "\n",
    "interactive_plot"
   ]
  },
  {
   "cell_type": "markdown",
   "metadata": {},
   "source": [
    "## Explain how we solve this probleme automatically"
   ]
  },
  {
   "cell_type": "markdown",
   "metadata": {},
   "source": [
    "## Non-linear Relation between data and Models"
   ]
  },
  {
   "cell_type": "code",
   "execution_count": null,
   "metadata": {},
   "outputs": [],
   "source": []
  },
  {
   "cell_type": "markdown",
   "metadata": {},
   "source": [
    "## Train-Validation-Test\n",
    "\n",
    "### Why we need it\n",
    "\n",
    "### How it works\n",
    "\n",
    "### Regularization "
   ]
  },
  {
   "cell_type": "markdown",
   "metadata": {},
   "source": [
    "## Project: "
   ]
  },
  {
   "cell_type": "markdown",
   "metadata": {},
   "source": [
    "Your goal is to try to find the best model for the following set of set of data: "
   ]
  },
  {
   "cell_type": "markdown",
   "metadata": {},
   "source": []
  }
 ],
 "metadata": {
  "language_info": {
   "name": "python"
  }
 },
 "nbformat": 4,
 "nbformat_minor": 2
}
